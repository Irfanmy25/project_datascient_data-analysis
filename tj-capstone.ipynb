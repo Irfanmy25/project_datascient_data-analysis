{
 "cells": [
  {
   "cell_type": "markdown",
   "metadata": {},
   "source": [
    "# **TRANSJAKARTA** #\n",
    "___"
   ]
  },
  {
   "cell_type": "markdown",
   "metadata": {},
   "source": [
    "# **Latar Belakang** #\n",
    "___\n",
    "\n",
    "Transjakarta adalah layanan transportasi utama di Jakarta yang mengangkut jutaan penumpang setiap bulannya. Untuk meningkatkan pengalaman dan efisiensi layanan, manajemen membutuhkan data yang dapat membantu memahami pola penggunaan, preferensi penumpang, dan kinerja operasional."
   ]
  },
  {
   "cell_type": "markdown",
   "metadata": {},
   "source": [
    "## **Pernyataan Masalah** ##\n",
    "___\n",
    "\n",
    "Manajemen Transjakarta ingin mengetahui kapan waktu sibuk, rute mana yang paling banyak digunakan, serta karakteristik demografis pengguna, untuk mengoptimalkan distribusi armada, meningkatkan fasilitas halte, dan membuat kebijakan yang lebih tepat sasaran.\n",
    "\n",
    "Sebagai seorang data analyst, saya akan mencoba menjawab pertanyaan berikut:\n",
    "\n",
    "Apa saja pola dan tren utama dalam penggunaan Transjakarta, dan bagaimana data ini bisa mendukung keputusan strategis pada manajemen Transjakarta?"
   ]
  },
  {
   "cell_type": "markdown",
   "metadata": {},
   "source": [
    "## **DATA UNDERSTANDING & DATA CLEANING** ##"
   ]
  },
  {
   "cell_type": "markdown",
   "metadata": {},
   "source": [
    "Dataset Transjakarta.csv ini terdiri dari 37.900 data dan 22 kolom :\n",
    "\n",
    "- transID: ID unik setiap transaksi perjalanan.\n",
    "- payCardID: ID unik kartu pelanggan.\n",
    "- payCardBank: Bank penerbit kartu pelanggan.\n",
    "- payCardName: Nama pelanggan di kartu.\n",
    "- payCardSex: Jenis kelamin pelanggan.\n",
    "- payCardBirthDate: Tahun lahir pelanggan.\n",
    "- corridorID: ID rute perjalanan.\n",
    "- corridorName: Nama rute atau koridor.\n",
    "- direction: Arah perjalanan (0 = Pergi, 1 = Pulang).\n",
    "- tapInStops: ID halte saat tap-in.\n",
    "- tapInStopsName: Nama halte saat tap-in.\n",
    "- tapInStopsLat: Koordinat lintang halte tap-in.\n",
    "- tapInStopsLon: Koordinat bujur halte tap-in.\n",
    "- topStartSeq: Urutan halte dalam rute (saat tap-in).\n",
    "- tapInTime: Waktu tap-in pelanggan.\n",
    "- tapOutStops: ID halte saat tap-out.\n",
    "- tapOutStopsName: Nama halte saat tap-out.\n",
    "- tapOutStopsLat: Koordinat lintang halte tap-out.\n",
    "- tapOutStopsLon: Koordinat bujur halte tap-out.\n",
    "- stopEndSeq: Urutan halte dalam rute (saat tap-out).\n",
    "- tapOutTime: Waktu tap-out pelanggan.\n",
    "- payAmount: Jumlah yang dibayar untuk perjalanan.\n",
    "\n",
    "Berikut adalah 5 data teratas dan terbawah dari dataset transjakarta:"
   ]
  },
  {
   "cell_type": "code",
   "execution_count": 174,
   "metadata": {},
   "outputs": [
    {
     "data": {
      "text/html": [
       "<div>\n",
       "<style scoped>\n",
       "    .dataframe tbody tr th:only-of-type {\n",
       "        vertical-align: middle;\n",
       "    }\n",
       "\n",
       "    .dataframe tbody tr th {\n",
       "        vertical-align: top;\n",
       "    }\n",
       "\n",
       "    .dataframe thead th {\n",
       "        text-align: right;\n",
       "    }\n",
       "</style>\n",
       "<table border=\"1\" class=\"dataframe\">\n",
       "  <thead>\n",
       "    <tr style=\"text-align: right;\">\n",
       "      <th></th>\n",
       "      <th>transID</th>\n",
       "      <th>payCardID</th>\n",
       "      <th>payCardBank</th>\n",
       "      <th>payCardName</th>\n",
       "      <th>payCardSex</th>\n",
       "      <th>payCardBirthDate</th>\n",
       "      <th>corridorID</th>\n",
       "      <th>corridorName</th>\n",
       "      <th>direction</th>\n",
       "      <th>tapInStops</th>\n",
       "      <th>tapInStopsName</th>\n",
       "      <th>tapInStopsLat</th>\n",
       "      <th>tapInStopsLon</th>\n",
       "      <th>stopStartSeq</th>\n",
       "      <th>tapInTime</th>\n",
       "      <th>tapOutStops</th>\n",
       "      <th>tapOutStopsName</th>\n",
       "      <th>tapOutStopsLat</th>\n",
       "      <th>tapOutStopsLon</th>\n",
       "      <th>stopEndSeq</th>\n",
       "      <th>tapOutTime</th>\n",
       "      <th>payAmount</th>\n",
       "    </tr>\n",
       "  </thead>\n",
       "  <tbody>\n",
       "    <tr>\n",
       "      <th>0</th>\n",
       "      <td>EIIW227B8L34VB</td>\n",
       "      <td>180062659848800</td>\n",
       "      <td>emoney</td>\n",
       "      <td>Bajragin Usada</td>\n",
       "      <td>M</td>\n",
       "      <td>2008</td>\n",
       "      <td>5</td>\n",
       "      <td>Matraman Baru - Ancol</td>\n",
       "      <td>1.0</td>\n",
       "      <td>P00142</td>\n",
       "      <td>Pal Putih</td>\n",
       "      <td>-6.184631</td>\n",
       "      <td>106.84402</td>\n",
       "      <td>7</td>\n",
       "      <td>2023-04-03 05:21:44</td>\n",
       "      <td>P00253</td>\n",
       "      <td>Tegalan</td>\n",
       "      <td>-6.203101</td>\n",
       "      <td>106.85715</td>\n",
       "      <td>12.0</td>\n",
       "      <td>2023-04-03 06:00:53</td>\n",
       "      <td>3500.0</td>\n",
       "    </tr>\n",
       "    <tr>\n",
       "      <th>1</th>\n",
       "      <td>LGXO740D2N47GZ</td>\n",
       "      <td>4885331907664776</td>\n",
       "      <td>dki</td>\n",
       "      <td>Gandi Widodo</td>\n",
       "      <td>F</td>\n",
       "      <td>1997</td>\n",
       "      <td>6C</td>\n",
       "      <td>Stasiun Tebet - Karet via Patra Kuningan</td>\n",
       "      <td>0.0</td>\n",
       "      <td>B01963P</td>\n",
       "      <td>Kemenkes 2</td>\n",
       "      <td>-6.228700</td>\n",
       "      <td>106.83302</td>\n",
       "      <td>13</td>\n",
       "      <td>2023-04-03 05:42:44</td>\n",
       "      <td>B03307P</td>\n",
       "      <td>Sampoerna Strategic</td>\n",
       "      <td>-6.217152</td>\n",
       "      <td>106.81892</td>\n",
       "      <td>21.0</td>\n",
       "      <td>2023-04-03 06:40:01</td>\n",
       "      <td>3500.0</td>\n",
       "    </tr>\n",
       "    <tr>\n",
       "      <th>2</th>\n",
       "      <td>DJWR385V2U57TO</td>\n",
       "      <td>4996225095064169</td>\n",
       "      <td>dki</td>\n",
       "      <td>Emong Wastuti</td>\n",
       "      <td>F</td>\n",
       "      <td>1992</td>\n",
       "      <td>R1A</td>\n",
       "      <td>Pantai Maju - Kota</td>\n",
       "      <td>0.0</td>\n",
       "      <td>B00499P</td>\n",
       "      <td>Gg. Kunir II</td>\n",
       "      <td>-6.133132</td>\n",
       "      <td>106.81435</td>\n",
       "      <td>38</td>\n",
       "      <td>2023-04-03 05:59:06</td>\n",
       "      <td>B04962P</td>\n",
       "      <td>Simpang Kunir Kemukus</td>\n",
       "      <td>-6.133731</td>\n",
       "      <td>106.81475</td>\n",
       "      <td>39.0</td>\n",
       "      <td>2023-04-03 06:50:55</td>\n",
       "      <td>3500.0</td>\n",
       "    </tr>\n",
       "    <tr>\n",
       "      <th>3</th>\n",
       "      <td>JTUZ800U7C86EH</td>\n",
       "      <td>639099174703</td>\n",
       "      <td>flazz</td>\n",
       "      <td>Surya Wacana</td>\n",
       "      <td>F</td>\n",
       "      <td>1978</td>\n",
       "      <td>11D</td>\n",
       "      <td>Pulo Gebang - Pulo Gadung 2 via PIK</td>\n",
       "      <td>0.0</td>\n",
       "      <td>B05587P</td>\n",
       "      <td>Taman Elok 1</td>\n",
       "      <td>-6.195743</td>\n",
       "      <td>106.93526</td>\n",
       "      <td>23</td>\n",
       "      <td>2023-04-03 05:44:51</td>\n",
       "      <td>B03090P</td>\n",
       "      <td>Raya Penggilingan</td>\n",
       "      <td>-6.183068</td>\n",
       "      <td>106.93194</td>\n",
       "      <td>29.0</td>\n",
       "      <td>2023-04-03 06:28:16</td>\n",
       "      <td>3500.0</td>\n",
       "    </tr>\n",
       "    <tr>\n",
       "      <th>4</th>\n",
       "      <td>VMLO535V7F95NJ</td>\n",
       "      <td>570928206772</td>\n",
       "      <td>flazz</td>\n",
       "      <td>Embuh Mardhiyah</td>\n",
       "      <td>M</td>\n",
       "      <td>1982</td>\n",
       "      <td>12</td>\n",
       "      <td>Tanjung Priok - Pluit</td>\n",
       "      <td>0.0</td>\n",
       "      <td>P00239</td>\n",
       "      <td>Sunter Boulevard Barat</td>\n",
       "      <td>-6.149650</td>\n",
       "      <td>106.88900</td>\n",
       "      <td>5</td>\n",
       "      <td>2023-04-03 06:17:35</td>\n",
       "      <td>P00098</td>\n",
       "      <td>Kali Besar Barat</td>\n",
       "      <td>-6.135355</td>\n",
       "      <td>106.81143</td>\n",
       "      <td>15.0</td>\n",
       "      <td>2023-04-03 06:57:03</td>\n",
       "      <td>3500.0</td>\n",
       "    </tr>\n",
       "  </tbody>\n",
       "</table>\n",
       "</div>"
      ],
      "text/plain": [
       "          transID         payCardID payCardBank      payCardName payCardSex  \\\n",
       "0  EIIW227B8L34VB   180062659848800      emoney   Bajragin Usada          M   \n",
       "1  LGXO740D2N47GZ  4885331907664776         dki     Gandi Widodo          F   \n",
       "2  DJWR385V2U57TO  4996225095064169         dki    Emong Wastuti          F   \n",
       "3  JTUZ800U7C86EH      639099174703       flazz     Surya Wacana          F   \n",
       "4  VMLO535V7F95NJ      570928206772       flazz  Embuh Mardhiyah          M   \n",
       "\n",
       "   payCardBirthDate corridorID                              corridorName  \\\n",
       "0              2008          5                     Matraman Baru - Ancol   \n",
       "1              1997         6C  Stasiun Tebet - Karet via Patra Kuningan   \n",
       "2              1992        R1A                        Pantai Maju - Kota   \n",
       "3              1978        11D       Pulo Gebang - Pulo Gadung 2 via PIK   \n",
       "4              1982         12                     Tanjung Priok - Pluit   \n",
       "\n",
       "   direction tapInStops          tapInStopsName  tapInStopsLat  tapInStopsLon  \\\n",
       "0        1.0     P00142               Pal Putih      -6.184631      106.84402   \n",
       "1        0.0    B01963P              Kemenkes 2      -6.228700      106.83302   \n",
       "2        0.0    B00499P            Gg. Kunir II      -6.133132      106.81435   \n",
       "3        0.0    B05587P            Taman Elok 1      -6.195743      106.93526   \n",
       "4        0.0     P00239  Sunter Boulevard Barat      -6.149650      106.88900   \n",
       "\n",
       "   stopStartSeq            tapInTime tapOutStops        tapOutStopsName  \\\n",
       "0             7  2023-04-03 05:21:44      P00253                Tegalan   \n",
       "1            13  2023-04-03 05:42:44     B03307P    Sampoerna Strategic   \n",
       "2            38  2023-04-03 05:59:06     B04962P  Simpang Kunir Kemukus   \n",
       "3            23  2023-04-03 05:44:51     B03090P      Raya Penggilingan   \n",
       "4             5  2023-04-03 06:17:35      P00098       Kali Besar Barat   \n",
       "\n",
       "   tapOutStopsLat  tapOutStopsLon  stopEndSeq           tapOutTime  payAmount  \n",
       "0       -6.203101       106.85715        12.0  2023-04-03 06:00:53     3500.0  \n",
       "1       -6.217152       106.81892        21.0  2023-04-03 06:40:01     3500.0  \n",
       "2       -6.133731       106.81475        39.0  2023-04-03 06:50:55     3500.0  \n",
       "3       -6.183068       106.93194        29.0  2023-04-03 06:28:16     3500.0  \n",
       "4       -6.135355       106.81143        15.0  2023-04-03 06:57:03     3500.0  "
      ]
     },
     "metadata": {},
     "output_type": "display_data"
    },
    {
     "data": {
      "text/html": [
       "<div>\n",
       "<style scoped>\n",
       "    .dataframe tbody tr th:only-of-type {\n",
       "        vertical-align: middle;\n",
       "    }\n",
       "\n",
       "    .dataframe tbody tr th {\n",
       "        vertical-align: top;\n",
       "    }\n",
       "\n",
       "    .dataframe thead th {\n",
       "        text-align: right;\n",
       "    }\n",
       "</style>\n",
       "<table border=\"1\" class=\"dataframe\">\n",
       "  <thead>\n",
       "    <tr style=\"text-align: right;\">\n",
       "      <th></th>\n",
       "      <th>transID</th>\n",
       "      <th>payCardID</th>\n",
       "      <th>payCardBank</th>\n",
       "      <th>payCardName</th>\n",
       "      <th>payCardSex</th>\n",
       "      <th>payCardBirthDate</th>\n",
       "      <th>corridorID</th>\n",
       "      <th>corridorName</th>\n",
       "      <th>direction</th>\n",
       "      <th>tapInStops</th>\n",
       "      <th>tapInStopsName</th>\n",
       "      <th>tapInStopsLat</th>\n",
       "      <th>tapInStopsLon</th>\n",
       "      <th>stopStartSeq</th>\n",
       "      <th>tapInTime</th>\n",
       "      <th>tapOutStops</th>\n",
       "      <th>tapOutStopsName</th>\n",
       "      <th>tapOutStopsLat</th>\n",
       "      <th>tapOutStopsLon</th>\n",
       "      <th>stopEndSeq</th>\n",
       "      <th>tapOutTime</th>\n",
       "      <th>payAmount</th>\n",
       "    </tr>\n",
       "  </thead>\n",
       "  <tbody>\n",
       "    <tr>\n",
       "      <th>37895</th>\n",
       "      <td>ZWEC949B8Q87QG</td>\n",
       "      <td>4685818286724028395</td>\n",
       "      <td>brizzi</td>\n",
       "      <td>Kamila Mahendra</td>\n",
       "      <td>F</td>\n",
       "      <td>2004</td>\n",
       "      <td>6B</td>\n",
       "      <td>Ragunan - MH Thamrin via Semanggi</td>\n",
       "      <td>1.0</td>\n",
       "      <td>P00261</td>\n",
       "      <td>Tosari</td>\n",
       "      <td>-6.196892</td>\n",
       "      <td>106.82309</td>\n",
       "      <td>2</td>\n",
       "      <td>2023-04-21 18:18:37</td>\n",
       "      <td>P00228</td>\n",
       "      <td>SMK 57</td>\n",
       "      <td>-6.290967</td>\n",
       "      <td>106.82365</td>\n",
       "      <td>13.0</td>\n",
       "      <td>2023-04-21 19:55:49</td>\n",
       "      <td>3500.0</td>\n",
       "    </tr>\n",
       "    <tr>\n",
       "      <th>37896</th>\n",
       "      <td>YHHK837P6Y95GN</td>\n",
       "      <td>6502902290603767</td>\n",
       "      <td>dki</td>\n",
       "      <td>Titi Siregar</td>\n",
       "      <td>M</td>\n",
       "      <td>1974</td>\n",
       "      <td>9N</td>\n",
       "      <td>Pinang Ranti - Pramuka</td>\n",
       "      <td>1.0</td>\n",
       "      <td>P00064</td>\n",
       "      <td>Garuda Taman Mini</td>\n",
       "      <td>-6.290154</td>\n",
       "      <td>106.88116</td>\n",
       "      <td>1</td>\n",
       "      <td>2023-04-18 21:52:31</td>\n",
       "      <td>P00179</td>\n",
       "      <td>Pinang Ranti</td>\n",
       "      <td>-6.291075</td>\n",
       "      <td>106.88634</td>\n",
       "      <td>2.0</td>\n",
       "      <td>2023-04-18 22:28:22</td>\n",
       "      <td>3500.0</td>\n",
       "    </tr>\n",
       "    <tr>\n",
       "      <th>37897</th>\n",
       "      <td>YXPP627N4G95HO</td>\n",
       "      <td>213159426675861</td>\n",
       "      <td>emoney</td>\n",
       "      <td>drg. Zahra Nashiruddin</td>\n",
       "      <td>F</td>\n",
       "      <td>1976</td>\n",
       "      <td>1T</td>\n",
       "      <td>Cibubur - Balai Kota</td>\n",
       "      <td>1.0</td>\n",
       "      <td>B02873P</td>\n",
       "      <td>Plaza Sentral</td>\n",
       "      <td>-6.216247</td>\n",
       "      <td>106.81676</td>\n",
       "      <td>12</td>\n",
       "      <td>2023-04-04 10:29:47</td>\n",
       "      <td>B00226P</td>\n",
       "      <td>Buperta Cibubur</td>\n",
       "      <td>-6.370321</td>\n",
       "      <td>106.89628</td>\n",
       "      <td>14.0</td>\n",
       "      <td>2023-04-04 13:27:25</td>\n",
       "      <td>20000.0</td>\n",
       "    </tr>\n",
       "    <tr>\n",
       "      <th>37898</th>\n",
       "      <td>RGVK175U2U98UV</td>\n",
       "      <td>377840859133591</td>\n",
       "      <td>emoney</td>\n",
       "      <td>Ana Agustina</td>\n",
       "      <td>M</td>\n",
       "      <td>1976</td>\n",
       "      <td>JAK.13</td>\n",
       "      <td>Tanah Abang - Jembatan Lima</td>\n",
       "      <td>1.0</td>\n",
       "      <td>B02505P</td>\n",
       "      <td>Museum Textile</td>\n",
       "      <td>-6.188656</td>\n",
       "      <td>106.80954</td>\n",
       "      <td>33</td>\n",
       "      <td>2023-04-15 19:59:26</td>\n",
       "      <td>B01787P</td>\n",
       "      <td>JPO Blok G</td>\n",
       "      <td>-6.188861</td>\n",
       "      <td>106.81135</td>\n",
       "      <td>34.0</td>\n",
       "      <td>2023-04-15 20:27:50</td>\n",
       "      <td>0.0</td>\n",
       "    </tr>\n",
       "    <tr>\n",
       "      <th>37899</th>\n",
       "      <td>FMZZ963S4B68ZP</td>\n",
       "      <td>501862539795</td>\n",
       "      <td>flazz</td>\n",
       "      <td>drg. Leo Najmudin</td>\n",
       "      <td>F</td>\n",
       "      <td>1985</td>\n",
       "      <td>13</td>\n",
       "      <td>Ciledug - Tendean</td>\n",
       "      <td>0.0</td>\n",
       "      <td>P00001</td>\n",
       "      <td>Adam Malik</td>\n",
       "      <td>-6.236466</td>\n",
       "      <td>106.74786</td>\n",
       "      <td>2</td>\n",
       "      <td>2023-04-12 21:08:12</td>\n",
       "      <td>P00106</td>\n",
       "      <td>Kebayoran Lama</td>\n",
       "      <td>-6.238340</td>\n",
       "      <td>106.77752</td>\n",
       "      <td>7.0</td>\n",
       "      <td>2023-04-12 21:34:53</td>\n",
       "      <td>3500.0</td>\n",
       "    </tr>\n",
       "  </tbody>\n",
       "</table>\n",
       "</div>"
      ],
      "text/plain": [
       "              transID            payCardID payCardBank  \\\n",
       "37895  ZWEC949B8Q87QG  4685818286724028395      brizzi   \n",
       "37896  YHHK837P6Y95GN     6502902290603767         dki   \n",
       "37897  YXPP627N4G95HO      213159426675861      emoney   \n",
       "37898  RGVK175U2U98UV      377840859133591      emoney   \n",
       "37899  FMZZ963S4B68ZP         501862539795       flazz   \n",
       "\n",
       "                  payCardName payCardSex  payCardBirthDate corridorID  \\\n",
       "37895         Kamila Mahendra          F              2004         6B   \n",
       "37896            Titi Siregar          M              1974         9N   \n",
       "37897  drg. Zahra Nashiruddin          F              1976         1T   \n",
       "37898            Ana Agustina          M              1976     JAK.13   \n",
       "37899       drg. Leo Najmudin          F              1985         13   \n",
       "\n",
       "                            corridorName  direction tapInStops  \\\n",
       "37895  Ragunan - MH Thamrin via Semanggi        1.0     P00261   \n",
       "37896             Pinang Ranti - Pramuka        1.0     P00064   \n",
       "37897               Cibubur - Balai Kota        1.0    B02873P   \n",
       "37898        Tanah Abang - Jembatan Lima        1.0    B02505P   \n",
       "37899                  Ciledug - Tendean        0.0     P00001   \n",
       "\n",
       "          tapInStopsName  tapInStopsLat  tapInStopsLon  stopStartSeq  \\\n",
       "37895             Tosari      -6.196892      106.82309             2   \n",
       "37896  Garuda Taman Mini      -6.290154      106.88116             1   \n",
       "37897      Plaza Sentral      -6.216247      106.81676            12   \n",
       "37898     Museum Textile      -6.188656      106.80954            33   \n",
       "37899         Adam Malik      -6.236466      106.74786             2   \n",
       "\n",
       "                 tapInTime tapOutStops  tapOutStopsName  tapOutStopsLat  \\\n",
       "37895  2023-04-21 18:18:37      P00228           SMK 57       -6.290967   \n",
       "37896  2023-04-18 21:52:31      P00179     Pinang Ranti       -6.291075   \n",
       "37897  2023-04-04 10:29:47     B00226P  Buperta Cibubur       -6.370321   \n",
       "37898  2023-04-15 19:59:26     B01787P       JPO Blok G       -6.188861   \n",
       "37899  2023-04-12 21:08:12      P00106   Kebayoran Lama       -6.238340   \n",
       "\n",
       "       tapOutStopsLon  stopEndSeq           tapOutTime  payAmount  \n",
       "37895       106.82365        13.0  2023-04-21 19:55:49     3500.0  \n",
       "37896       106.88634         2.0  2023-04-18 22:28:22     3500.0  \n",
       "37897       106.89628        14.0  2023-04-04 13:27:25    20000.0  \n",
       "37898       106.81135        34.0  2023-04-15 20:27:50        0.0  \n",
       "37899       106.77752         7.0  2023-04-12 21:34:53     3500.0  "
      ]
     },
     "metadata": {},
     "output_type": "display_data"
    }
   ],
   "source": [
    "import pandas as pd\n",
    "import numpy as np\n",
    "pd.set_option('display.max_columns', None)\n",
    "\n",
    "df = pd.read_csv(\"Transjakarta.csv\")\n",
    "display(df.head(5))\n",
    "display(df.tail(5))"
   ]
  },
  {
   "cell_type": "code",
   "execution_count": 175,
   "metadata": {},
   "outputs": [],
   "source": [
    "import pandas as pd\n",
    "import numpy as np\n",
    "pd.set_option('display.max_columns', None)\n",
    "import matplotlib.pyplot as plt\n",
    "import seaborn as sns\n",
    "import plotly.express as px\n",
    "import warnings\n",
    "warnings.filterwarnings(\"ignore\")"
   ]
  },
  {
   "cell_type": "code",
   "execution_count": 176,
   "metadata": {},
   "outputs": [
    {
     "name": "stdout",
     "output_type": "stream",
     "text": [
      "<class 'pandas.core.frame.DataFrame'>\n",
      "RangeIndex: 37900 entries, 0 to 37899\n",
      "Data columns (total 22 columns):\n",
      " #   Column            Non-Null Count  Dtype  \n",
      "---  ------            --------------  -----  \n",
      " 0   transID           37900 non-null  object \n",
      " 1   payCardID         37900 non-null  int64  \n",
      " 2   payCardBank       37900 non-null  object \n",
      " 3   payCardName       37900 non-null  object \n",
      " 4   payCardSex        37900 non-null  object \n",
      " 5   payCardBirthDate  37900 non-null  int64  \n",
      " 6   corridorID        36643 non-null  object \n",
      " 7   corridorName      35970 non-null  object \n",
      " 8   direction         37900 non-null  float64\n",
      " 9   tapInStops        36687 non-null  object \n",
      " 10  tapInStopsName    37900 non-null  object \n",
      " 11  tapInStopsLat     37900 non-null  float64\n",
      " 12  tapInStopsLon     37900 non-null  float64\n",
      " 13  stopStartSeq      37900 non-null  int64  \n",
      " 14  tapInTime         37900 non-null  object \n",
      " 15  tapOutStops       35611 non-null  object \n",
      " 16  tapOutStopsName   36556 non-null  object \n",
      " 17  tapOutStopsLat    36556 non-null  float64\n",
      " 18  tapOutStopsLon    36556 non-null  float64\n",
      " 19  stopEndSeq        36556 non-null  float64\n",
      " 20  tapOutTime        36556 non-null  object \n",
      " 21  payAmount         36893 non-null  float64\n",
      "dtypes: float64(7), int64(3), object(12)\n",
      "memory usage: 6.4+ MB\n"
     ]
    }
   ],
   "source": [
    "df.info()"
   ]
  },
  {
   "cell_type": "code",
   "execution_count": 177,
   "metadata": {},
   "outputs": [
    {
     "data": {
      "text/plain": [
       "transID             0.000000\n",
       "payCardID           0.000000\n",
       "payCardBank         0.000000\n",
       "payCardName         0.000000\n",
       "payCardSex          0.000000\n",
       "payCardBirthDate    0.000000\n",
       "corridorID          3.316623\n",
       "corridorName        5.092348\n",
       "direction           0.000000\n",
       "tapInStops          3.200528\n",
       "tapInStopsName      0.000000\n",
       "tapInStopsLat       0.000000\n",
       "tapInStopsLon       0.000000\n",
       "stopStartSeq        0.000000\n",
       "tapInTime           0.000000\n",
       "tapOutStops         6.039578\n",
       "tapOutStopsName     3.546174\n",
       "tapOutStopsLat      3.546174\n",
       "tapOutStopsLon      3.546174\n",
       "stopEndSeq          3.546174\n",
       "tapOutTime          3.546174\n",
       "payAmount           2.656992\n",
       "dtype: float64"
      ]
     },
     "execution_count": 177,
     "metadata": {},
     "output_type": "execute_result"
    }
   ],
   "source": [
    "df.isna().sum()/len(df)*100"
   ]
  },
  {
   "cell_type": "markdown",
   "metadata": {},
   "source": [
    "\n",
    "Kolom tapOutStopsName berhubungan dengan `tapOutStops` , `tapOutStopsLat`, `tapOutStopsLon`, `stopEndSeq`, `tapOutTime`. Missing value pada kolom `tapOutStopsName` kemungkinan disebabkan karena missing value pada `tapOutStops`. Sehingga jika dilakukan pengisian berdasarkan kolom lainnya dikhawatirkan kurang efektif sehingga menyebabkan kurang akuratnya proses analisis. Jadi missing value pada `tapOutStopName` lebih baik didrop saja"
   ]
  },
  {
   "cell_type": "code",
   "execution_count": 178,
   "metadata": {},
   "outputs": [],
   "source": [
    "df = df.dropna(subset=['tapOutStopsName'])"
   ]
  },
  {
   "cell_type": "markdown",
   "metadata": {},
   "source": [
    "Missing value pada kolom `tapInStops` dan `tapOutStops` dapat ditangani dengan melihat data pada kolom `tapInStopsName` dan `tapOutStopsName` pada data yang terjadi missing value. pengisiannya dapat dilakukan dengan cara melihat data transaksi lainnya sebagai referensi yang memiliki data `tapInStopsName` dan `tapOutStopsName` yang sama dengan data transaksi yang terjadi missing value, dengan begitu kolom `tapInStops` dan `tapOutStops` yang missing value dapat diisi sama dengan transaksi yang sama."
   ]
  },
  {
   "cell_type": "code",
   "execution_count": 179,
   "metadata": {},
   "outputs": [
    {
     "name": "stdout",
     "output_type": "stream",
     "text": [
      "transID             0.000000\n",
      "payCardID           0.000000\n",
      "payCardBank         0.000000\n",
      "payCardName         0.000000\n",
      "payCardSex          0.000000\n",
      "payCardBirthDate    0.000000\n",
      "corridorID          3.296313\n",
      "corridorName        5.071671\n",
      "direction           0.000000\n",
      "tapInStops          0.087537\n",
      "tapInStopsName      0.000000\n",
      "tapInStopsLat       0.000000\n",
      "tapInStopsLon       0.000000\n",
      "stopStartSeq        0.000000\n",
      "tapInTime           0.000000\n",
      "tapOutStops         0.051975\n",
      "tapOutStopsName     0.000000\n",
      "tapOutStopsLat      0.000000\n",
      "tapOutStopsLon      0.000000\n",
      "stopEndSeq          0.000000\n",
      "tapOutTime          0.000000\n",
      "payAmount           2.647992\n",
      "dtype: float64\n"
     ]
    }
   ],
   "source": [
    "# Data referensi yang sudah bersih dari duplicate dan missing value\n",
    "\n",
    "reference_data_stops = df.dropna(subset=['tapInStops', 'tapOutStops', 'tapInStopsName', 'tapOutStopsName'])\n",
    "reference_data_stops = reference_data_stops[['tapInStops', 'tapOutStops', 'tapInStopsName', 'tapOutStopsName']].drop_duplicates()\n",
    "\n",
    "# Dictionary untuk mapping berdasarkan tapInStopsName dan tapOutStopsName\n",
    "tapInStops_map = reference_data_stops.set_index(['tapInStopsName'])['tapInStops'].to_dict()\n",
    "tapOutStops_map = reference_data_stops.set_index(['tapOutStopsName'])['tapOutStops'].to_dict()\n",
    "\n",
    "# 3. Penanganan missing values pada tapInStops dan tapOutStops berdasarkan referensi yang sudah dibuat\n",
    "df['tapInStops'] = df.apply(\n",
    "    lambda row: row['tapInStops'] if pd.notna(row['tapInStops']) \n",
    "    else tapInStops_map.get(row['tapInStopsName']), axis=1\n",
    ")\n",
    "\n",
    "df['tapOutStops'] = df.apply(\n",
    "    lambda row: row['tapOutStops'] if pd.notna(row['tapOutStops']) \n",
    "    else tapOutStops_map.get(row['tapOutStopsName']), axis=1\n",
    ")\n",
    "\n",
    "print(df.isna().sum() / len(df) * 100)\n"
   ]
  },
  {
   "cell_type": "markdown",
   "metadata": {},
   "source": [
    "Missing value pada kolom `corridorID` dan `corridorName` pengangananya sama seperti penanganan missing value pada kolom `tapInStops` dan `tapOutStops`. yang membedakan hanya pada kolom referensinya saja, yaitu pada penanganan missing value di kolom `corridorID` dan `coriddorName`, kolom yang dijadikan sebagai data referensi yaitu berdasarkan `tapInStopsName` dan `tapOutStopsName`"
   ]
  },
  {
   "cell_type": "code",
   "execution_count": 180,
   "metadata": {},
   "outputs": [
    {
     "data": {
      "text/plain": [
       "transID               0\n",
       "payCardID             0\n",
       "payCardBank           0\n",
       "payCardName           0\n",
       "payCardSex            0\n",
       "payCardBirthDate      0\n",
       "corridorID           81\n",
       "corridorName        124\n",
       "direction             0\n",
       "tapInStops           32\n",
       "tapInStopsName        0\n",
       "tapInStopsLat         0\n",
       "tapInStopsLon         0\n",
       "stopStartSeq          0\n",
       "tapInTime             0\n",
       "tapOutStops          19\n",
       "tapOutStopsName       0\n",
       "tapOutStopsLat        0\n",
       "tapOutStopsLon        0\n",
       "stopEndSeq            0\n",
       "tapOutTime            0\n",
       "payAmount           968\n",
       "dtype: int64"
      ]
     },
     "execution_count": 180,
     "metadata": {},
     "output_type": "execute_result"
    }
   ],
   "source": [
    "\n",
    "# Data Referensi \n",
    "reference_data = df.dropna(subset=['corridorID', 'corridorName'])\n",
    "reference_data = reference_data[['tapInStopsName', 'tapOutStopsName', 'corridorID', 'corridorName']].drop_duplicates()\n",
    "\n",
    "# Dictionary untuk mapping berdasarkan tapInStopsName dan tapOutStopsName\n",
    "corridorID_map = reference_data.set_index(['tapInStopsName', 'tapOutStopsName'])['corridorID'].to_dict()\n",
    "corridorName_map = reference_data.set_index(['tapInStopsName', 'tapOutStopsName'])['corridorName'].to_dict()\n",
    "\n",
    "# Penanganan missing values pada corridorID dan corridorName\n",
    "df['corridorID'] = df.apply(\n",
    "    lambda row: row['corridorID'] if pd.notna(row['corridorID']) \n",
    "    else corridorID_map.get((row['tapInStopsName'], row['tapOutStopsName'])), axis=1\n",
    ")\n",
    "\n",
    "df['corridorName'] = df.apply(\n",
    "    lambda row: row['corridorName'] if pd.notna(row['corridorName']) \n",
    "    else corridorName_map.get((row['tapInStopsName'], row['tapOutStopsName'])), axis=1\n",
    ")\n",
    "\n",
    "df.isna().sum()\n"
   ]
  },
  {
   "cell_type": "markdown",
   "metadata": {},
   "source": [
    "Pada kolom `corridorID` dan `corridorName` ini berhubungan satu sama lain, sehingga beberapa data missing value yang terjadi diantara kedua kolom tersebut dapat ditangani dengan cara melihat salah satu data dari kolom tersebut, sehingga seharusnya missing value pada kedua kolom tersebut sama."
   ]
  },
  {
   "cell_type": "code",
   "execution_count": 181,
   "metadata": {},
   "outputs": [
    {
     "data": {
      "text/plain": [
       "transID               0\n",
       "payCardID             0\n",
       "payCardBank           0\n",
       "payCardName           0\n",
       "payCardSex            0\n",
       "payCardBirthDate      0\n",
       "corridorID           73\n",
       "corridorName         73\n",
       "direction             0\n",
       "tapInStops           32\n",
       "tapInStopsName        0\n",
       "tapInStopsLat         0\n",
       "tapInStopsLon         0\n",
       "stopStartSeq          0\n",
       "tapInTime             0\n",
       "tapOutStops          19\n",
       "tapOutStopsName       0\n",
       "tapOutStopsLat        0\n",
       "tapOutStopsLon        0\n",
       "stopEndSeq            0\n",
       "tapOutTime            0\n",
       "payAmount           968\n",
       "dtype: int64"
      ]
     },
     "execution_count": 181,
     "metadata": {},
     "output_type": "execute_result"
    }
   ],
   "source": [
    "# Data Referensi\n",
    "reference_data = df.dropna(subset=['corridorID', 'corridorName'])\n",
    "reference_data = reference_data[['tapInStopsName', 'tapOutStopsName', 'corridorID', 'corridorName']].drop_duplicates()\n",
    "\n",
    "# Dictionary untuk mapping berdasarkan salah satu data dari kolom corridorID dan corridorName\n",
    "corridorID_map = reference_data.set_index(['corridorName'])['corridorID'].to_dict()\n",
    "corridorName_map = reference_data.set_index(['corridorID'])['corridorName'].to_dict()\n",
    "\n",
    "# Imputasi missing values pada corridorID dan corridorName\n",
    "df['corridorID'] = df.apply(\n",
    "    lambda row: row['corridorID'] if pd.notna(row['corridorID']) \n",
    "    else corridorID_map.get(row['corridorName']), axis=1\n",
    ")\n",
    "\n",
    "df['corridorName'] = df.apply(\n",
    "    lambda row: row['corridorName'] if pd.notna(row['corridorName']) \n",
    "    else corridorName_map.get(row['corridorID']), axis=1\n",
    ")\n",
    "\n",
    "df.isna().sum()"
   ]
  },
  {
   "cell_type": "markdown",
   "metadata": {},
   "source": [
    "**Dari dataset transjakarta ini, dapat dilihat bahwa penentuan harga pada kolom `payAmount` berdasarkan corridorID yang digunakan**.\n",
    "dan setelah dilihat pada datanya, `payAmount` yang bernilai missing value itu menggunakan corridorID yang memang `payAmount`nya adalah 0.\n",
    "\n",
    "**Sehingga missing value yang terjadi pada kolom payAmount ini dapat dilakukan pengisian dengan value 0**"
   ]
  },
  {
   "cell_type": "code",
   "execution_count": 182,
   "metadata": {},
   "outputs": [],
   "source": [
    "# Mengubah missing values pada kolom payAmount menjadi 0\n",
    "df['payAmount'] = df['payAmount'].fillna(0)"
   ]
  },
  {
   "cell_type": "code",
   "execution_count": 183,
   "metadata": {},
   "outputs": [
    {
     "data": {
      "text/plain": [
       "transID              0\n",
       "payCardID            0\n",
       "payCardBank          0\n",
       "payCardName          0\n",
       "payCardSex           0\n",
       "payCardBirthDate     0\n",
       "corridorID          73\n",
       "corridorName        73\n",
       "direction            0\n",
       "tapInStops          32\n",
       "tapInStopsName       0\n",
       "tapInStopsLat        0\n",
       "tapInStopsLon        0\n",
       "stopStartSeq         0\n",
       "tapInTime            0\n",
       "tapOutStops         19\n",
       "tapOutStopsName      0\n",
       "tapOutStopsLat       0\n",
       "tapOutStopsLon       0\n",
       "stopEndSeq           0\n",
       "tapOutTime           0\n",
       "payAmount            0\n",
       "dtype: int64"
      ]
     },
     "execution_count": 183,
     "metadata": {},
     "output_type": "execute_result"
    }
   ],
   "source": [
    "df.isna().sum()"
   ]
  },
  {
   "cell_type": "markdown",
   "metadata": {},
   "source": [
    "Untuk penanganan missing value yang tersisa pada kolom `corridorID`, `corridorName`, `tapInStops` dan `tapOutStops`, karena proporsinya tidak banyak dan memang tidak ada cara yang dirasa efektif untuk dilakukan (*Jika dilihat dari datanya memang hanya ada sedikit transaksi/data history sebelumnya,sehingga tidak dapat ditangani berdasarkan history sebelumnya*), maka kita dapat drop saja datanya."
   ]
  },
  {
   "cell_type": "code",
   "execution_count": 184,
   "metadata": {},
   "outputs": [],
   "source": [
    "df.dropna(subset=['corridorID','corridorName','tapInStops','tapOutStops'], inplace=True)"
   ]
  },
  {
   "cell_type": "code",
   "execution_count": 185,
   "metadata": {},
   "outputs": [
    {
     "data": {
      "text/plain": [
       "transID             0\n",
       "payCardID           0\n",
       "payCardBank         0\n",
       "payCardName         0\n",
       "payCardSex          0\n",
       "payCardBirthDate    0\n",
       "corridorID          0\n",
       "corridorName        0\n",
       "direction           0\n",
       "tapInStops          0\n",
       "tapInStopsName      0\n",
       "tapInStopsLat       0\n",
       "tapInStopsLon       0\n",
       "stopStartSeq        0\n",
       "tapInTime           0\n",
       "tapOutStops         0\n",
       "tapOutStopsName     0\n",
       "tapOutStopsLat      0\n",
       "tapOutStopsLon      0\n",
       "stopEndSeq          0\n",
       "tapOutTime          0\n",
       "payAmount           0\n",
       "dtype: int64"
      ]
     },
     "execution_count": 185,
     "metadata": {},
     "output_type": "execute_result"
    }
   ],
   "source": [
    "df.isna().sum()"
   ]
  },
  {
   "cell_type": "markdown",
   "metadata": {},
   "source": [
    "**Check dan ubah Format datetime pada kolom `tapInTime` `tapOutTime` agar memudahkan proses analisis puncak kesibukan operasionalnya**"
   ]
  },
  {
   "cell_type": "code",
   "execution_count": 186,
   "metadata": {},
   "outputs": [],
   "source": [
    "\n",
    "df['tapInTime'] = pd.to_datetime(df['tapInTime'])\n",
    "df['tapOutTime'] = pd.to_datetime(df['tapOutTime'])"
   ]
  },
  {
   "cell_type": "code",
   "execution_count": 187,
   "metadata": {},
   "outputs": [
    {
     "name": "stdout",
     "output_type": "stream",
     "text": [
      "<class 'pandas.core.frame.DataFrame'>\n",
      "Index: 36433 entries, 0 to 37899\n",
      "Data columns (total 22 columns):\n",
      " #   Column            Non-Null Count  Dtype         \n",
      "---  ------            --------------  -----         \n",
      " 0   transID           36433 non-null  object        \n",
      " 1   payCardID         36433 non-null  int64         \n",
      " 2   payCardBank       36433 non-null  object        \n",
      " 3   payCardName       36433 non-null  object        \n",
      " 4   payCardSex        36433 non-null  object        \n",
      " 5   payCardBirthDate  36433 non-null  int64         \n",
      " 6   corridorID        36433 non-null  object        \n",
      " 7   corridorName      36433 non-null  object        \n",
      " 8   direction         36433 non-null  float64       \n",
      " 9   tapInStops        36433 non-null  object        \n",
      " 10  tapInStopsName    36433 non-null  object        \n",
      " 11  tapInStopsLat     36433 non-null  float64       \n",
      " 12  tapInStopsLon     36433 non-null  float64       \n",
      " 13  stopStartSeq      36433 non-null  int64         \n",
      " 14  tapInTime         36433 non-null  datetime64[ns]\n",
      " 15  tapOutStops       36433 non-null  object        \n",
      " 16  tapOutStopsName   36433 non-null  object        \n",
      " 17  tapOutStopsLat    36433 non-null  float64       \n",
      " 18  tapOutStopsLon    36433 non-null  float64       \n",
      " 19  stopEndSeq        36433 non-null  float64       \n",
      " 20  tapOutTime        36433 non-null  datetime64[ns]\n",
      " 21  payAmount         36433 non-null  float64       \n",
      "dtypes: datetime64[ns](2), float64(7), int64(3), object(10)\n",
      "memory usage: 6.4+ MB\n"
     ]
    }
   ],
   "source": [
    "df.info()"
   ]
  },
  {
   "cell_type": "markdown",
   "metadata": {},
   "source": [
    "## **ANALISIS** ##\n",
    "___"
   ]
  },
  {
   "cell_type": "markdown",
   "metadata": {},
   "source": [
    "Pada bagian data analisis, saya akan melakukan eksplorasi terhadap pola penggunaan Transjakarta dengan menganalisis waktu sibuk (jam, hari, bulan), rute yang paling banyak digunakan, serta karakteristik demografis pengguna. Selain itu, saya akan menganalisis durasi perjalanan, frekuensi penggunaan halte, dan pola pembayaran untuk memberikan wawasan yang dapat digunakan untuk pengambilan keputusan yang lebih efisien dalam pengelolaan armada dan fasilitas."
   ]
  },
  {
   "cell_type": "code",
   "execution_count": 189,
   "metadata": {},
   "outputs": [],
   "source": [
    "df1 = df.copy()"
   ]
  },
  {
   "cell_type": "markdown",
   "metadata": {},
   "source": [
    "Untuk memudahkan proses analisis waktu sibuk operasional, maka akan dibuat kolom baru yang berisi:\n",
    "- `tapInDay`: Hari dilakukan transaksi (Tap In)\n",
    "- `tapInHour`: Jam tap in\n",
    "- `tapOutHour`: Jam tap out\n",
    "- `Duration`: Durasi perjalanan dalam satuan menit (`tapOutHour` - `tapInHour`)\n",
    "- `payCardAge`: Usia penumpang (Diasumsikan bahwa usia penumpang sama seperti usia/lamanya `payCard`)"
   ]
  },
  {
   "cell_type": "code",
   "execution_count": 190,
   "metadata": {},
   "outputs": [
    {
     "data": {
      "text/html": [
       "<div>\n",
       "<style scoped>\n",
       "    .dataframe tbody tr th:only-of-type {\n",
       "        vertical-align: middle;\n",
       "    }\n",
       "\n",
       "    .dataframe tbody tr th {\n",
       "        vertical-align: top;\n",
       "    }\n",
       "\n",
       "    .dataframe thead th {\n",
       "        text-align: right;\n",
       "    }\n",
       "</style>\n",
       "<table border=\"1\" class=\"dataframe\">\n",
       "  <thead>\n",
       "    <tr style=\"text-align: right;\">\n",
       "      <th></th>\n",
       "      <th>transID</th>\n",
       "      <th>payCardID</th>\n",
       "      <th>payCardBank</th>\n",
       "      <th>payCardName</th>\n",
       "      <th>payCardSex</th>\n",
       "      <th>payCardBirthDate</th>\n",
       "      <th>corridorID</th>\n",
       "      <th>corridorName</th>\n",
       "      <th>direction</th>\n",
       "      <th>tapInStops</th>\n",
       "      <th>tapInStopsName</th>\n",
       "      <th>tapInStopsLat</th>\n",
       "      <th>tapInStopsLon</th>\n",
       "      <th>stopStartSeq</th>\n",
       "      <th>tapInTime</th>\n",
       "      <th>tapOutStops</th>\n",
       "      <th>tapOutStopsName</th>\n",
       "      <th>tapOutStopsLat</th>\n",
       "      <th>tapOutStopsLon</th>\n",
       "      <th>stopEndSeq</th>\n",
       "      <th>tapOutTime</th>\n",
       "      <th>payAmount</th>\n",
       "      <th>tapDay</th>\n",
       "      <th>tapInHour</th>\n",
       "      <th>tapOutHour</th>\n",
       "      <th>duration</th>\n",
       "      <th>payCardAge</th>\n",
       "    </tr>\n",
       "  </thead>\n",
       "  <tbody>\n",
       "    <tr>\n",
       "      <th>0</th>\n",
       "      <td>EIIW227B8L34VB</td>\n",
       "      <td>180062659848800</td>\n",
       "      <td>emoney</td>\n",
       "      <td>Bajragin Usada</td>\n",
       "      <td>M</td>\n",
       "      <td>2008</td>\n",
       "      <td>5</td>\n",
       "      <td>Matraman Baru - Ancol</td>\n",
       "      <td>1.0</td>\n",
       "      <td>P00142</td>\n",
       "      <td>Pal Putih</td>\n",
       "      <td>-6.184631</td>\n",
       "      <td>106.84402</td>\n",
       "      <td>7</td>\n",
       "      <td>2023-04-03 05:21:44</td>\n",
       "      <td>P00253</td>\n",
       "      <td>Tegalan</td>\n",
       "      <td>-6.203101</td>\n",
       "      <td>106.85715</td>\n",
       "      <td>12.0</td>\n",
       "      <td>2023-04-03 06:00:53</td>\n",
       "      <td>3500.0</td>\n",
       "      <td>Monday</td>\n",
       "      <td>5</td>\n",
       "      <td>6</td>\n",
       "      <td>39.150000</td>\n",
       "      <td>16</td>\n",
       "    </tr>\n",
       "    <tr>\n",
       "      <th>1</th>\n",
       "      <td>LGXO740D2N47GZ</td>\n",
       "      <td>4885331907664776</td>\n",
       "      <td>dki</td>\n",
       "      <td>Gandi Widodo</td>\n",
       "      <td>F</td>\n",
       "      <td>1997</td>\n",
       "      <td>6C</td>\n",
       "      <td>Stasiun Tebet - Karet via Patra Kuningan</td>\n",
       "      <td>0.0</td>\n",
       "      <td>B01963P</td>\n",
       "      <td>Kemenkes 2</td>\n",
       "      <td>-6.228700</td>\n",
       "      <td>106.83302</td>\n",
       "      <td>13</td>\n",
       "      <td>2023-04-03 05:42:44</td>\n",
       "      <td>B03307P</td>\n",
       "      <td>Sampoerna Strategic</td>\n",
       "      <td>-6.217152</td>\n",
       "      <td>106.81892</td>\n",
       "      <td>21.0</td>\n",
       "      <td>2023-04-03 06:40:01</td>\n",
       "      <td>3500.0</td>\n",
       "      <td>Monday</td>\n",
       "      <td>5</td>\n",
       "      <td>6</td>\n",
       "      <td>57.283333</td>\n",
       "      <td>27</td>\n",
       "    </tr>\n",
       "    <tr>\n",
       "      <th>2</th>\n",
       "      <td>DJWR385V2U57TO</td>\n",
       "      <td>4996225095064169</td>\n",
       "      <td>dki</td>\n",
       "      <td>Emong Wastuti</td>\n",
       "      <td>F</td>\n",
       "      <td>1992</td>\n",
       "      <td>R1A</td>\n",
       "      <td>Pantai Maju - Kota</td>\n",
       "      <td>0.0</td>\n",
       "      <td>B00499P</td>\n",
       "      <td>Gg. Kunir II</td>\n",
       "      <td>-6.133132</td>\n",
       "      <td>106.81435</td>\n",
       "      <td>38</td>\n",
       "      <td>2023-04-03 05:59:06</td>\n",
       "      <td>B04962P</td>\n",
       "      <td>Simpang Kunir Kemukus</td>\n",
       "      <td>-6.133731</td>\n",
       "      <td>106.81475</td>\n",
       "      <td>39.0</td>\n",
       "      <td>2023-04-03 06:50:55</td>\n",
       "      <td>3500.0</td>\n",
       "      <td>Monday</td>\n",
       "      <td>5</td>\n",
       "      <td>6</td>\n",
       "      <td>51.816667</td>\n",
       "      <td>32</td>\n",
       "    </tr>\n",
       "    <tr>\n",
       "      <th>3</th>\n",
       "      <td>JTUZ800U7C86EH</td>\n",
       "      <td>639099174703</td>\n",
       "      <td>flazz</td>\n",
       "      <td>Surya Wacana</td>\n",
       "      <td>F</td>\n",
       "      <td>1978</td>\n",
       "      <td>11D</td>\n",
       "      <td>Pulo Gebang - Pulo Gadung 2 via PIK</td>\n",
       "      <td>0.0</td>\n",
       "      <td>B05587P</td>\n",
       "      <td>Taman Elok 1</td>\n",
       "      <td>-6.195743</td>\n",
       "      <td>106.93526</td>\n",
       "      <td>23</td>\n",
       "      <td>2023-04-03 05:44:51</td>\n",
       "      <td>B03090P</td>\n",
       "      <td>Raya Penggilingan</td>\n",
       "      <td>-6.183068</td>\n",
       "      <td>106.93194</td>\n",
       "      <td>29.0</td>\n",
       "      <td>2023-04-03 06:28:16</td>\n",
       "      <td>3500.0</td>\n",
       "      <td>Monday</td>\n",
       "      <td>5</td>\n",
       "      <td>6</td>\n",
       "      <td>43.416667</td>\n",
       "      <td>46</td>\n",
       "    </tr>\n",
       "    <tr>\n",
       "      <th>4</th>\n",
       "      <td>VMLO535V7F95NJ</td>\n",
       "      <td>570928206772</td>\n",
       "      <td>flazz</td>\n",
       "      <td>Embuh Mardhiyah</td>\n",
       "      <td>M</td>\n",
       "      <td>1982</td>\n",
       "      <td>12</td>\n",
       "      <td>Tanjung Priok - Pluit</td>\n",
       "      <td>0.0</td>\n",
       "      <td>P00239</td>\n",
       "      <td>Sunter Boulevard Barat</td>\n",
       "      <td>-6.149650</td>\n",
       "      <td>106.88900</td>\n",
       "      <td>5</td>\n",
       "      <td>2023-04-03 06:17:35</td>\n",
       "      <td>P00098</td>\n",
       "      <td>Kali Besar Barat</td>\n",
       "      <td>-6.135355</td>\n",
       "      <td>106.81143</td>\n",
       "      <td>15.0</td>\n",
       "      <td>2023-04-03 06:57:03</td>\n",
       "      <td>3500.0</td>\n",
       "      <td>Monday</td>\n",
       "      <td>6</td>\n",
       "      <td>6</td>\n",
       "      <td>39.466667</td>\n",
       "      <td>42</td>\n",
       "    </tr>\n",
       "  </tbody>\n",
       "</table>\n",
       "</div>"
      ],
      "text/plain": [
       "          transID         payCardID payCardBank      payCardName payCardSex  \\\n",
       "0  EIIW227B8L34VB   180062659848800      emoney   Bajragin Usada          M   \n",
       "1  LGXO740D2N47GZ  4885331907664776         dki     Gandi Widodo          F   \n",
       "2  DJWR385V2U57TO  4996225095064169         dki    Emong Wastuti          F   \n",
       "3  JTUZ800U7C86EH      639099174703       flazz     Surya Wacana          F   \n",
       "4  VMLO535V7F95NJ      570928206772       flazz  Embuh Mardhiyah          M   \n",
       "\n",
       "   payCardBirthDate corridorID                              corridorName  \\\n",
       "0              2008          5                     Matraman Baru - Ancol   \n",
       "1              1997         6C  Stasiun Tebet - Karet via Patra Kuningan   \n",
       "2              1992        R1A                        Pantai Maju - Kota   \n",
       "3              1978        11D       Pulo Gebang - Pulo Gadung 2 via PIK   \n",
       "4              1982         12                     Tanjung Priok - Pluit   \n",
       "\n",
       "   direction tapInStops          tapInStopsName  tapInStopsLat  tapInStopsLon  \\\n",
       "0        1.0     P00142               Pal Putih      -6.184631      106.84402   \n",
       "1        0.0    B01963P              Kemenkes 2      -6.228700      106.83302   \n",
       "2        0.0    B00499P            Gg. Kunir II      -6.133132      106.81435   \n",
       "3        0.0    B05587P            Taman Elok 1      -6.195743      106.93526   \n",
       "4        0.0     P00239  Sunter Boulevard Barat      -6.149650      106.88900   \n",
       "\n",
       "   stopStartSeq           tapInTime tapOutStops        tapOutStopsName  \\\n",
       "0             7 2023-04-03 05:21:44      P00253                Tegalan   \n",
       "1            13 2023-04-03 05:42:44     B03307P    Sampoerna Strategic   \n",
       "2            38 2023-04-03 05:59:06     B04962P  Simpang Kunir Kemukus   \n",
       "3            23 2023-04-03 05:44:51     B03090P      Raya Penggilingan   \n",
       "4             5 2023-04-03 06:17:35      P00098       Kali Besar Barat   \n",
       "\n",
       "   tapOutStopsLat  tapOutStopsLon  stopEndSeq          tapOutTime  payAmount  \\\n",
       "0       -6.203101       106.85715        12.0 2023-04-03 06:00:53     3500.0   \n",
       "1       -6.217152       106.81892        21.0 2023-04-03 06:40:01     3500.0   \n",
       "2       -6.133731       106.81475        39.0 2023-04-03 06:50:55     3500.0   \n",
       "3       -6.183068       106.93194        29.0 2023-04-03 06:28:16     3500.0   \n",
       "4       -6.135355       106.81143        15.0 2023-04-03 06:57:03     3500.0   \n",
       "\n",
       "   tapDay  tapInHour  tapOutHour   duration  payCardAge  \n",
       "0  Monday          5           6  39.150000          16  \n",
       "1  Monday          5           6  57.283333          27  \n",
       "2  Monday          5           6  51.816667          32  \n",
       "3  Monday          5           6  43.416667          46  \n",
       "4  Monday          6           6  39.466667          42  "
      ]
     },
     "execution_count": 190,
     "metadata": {},
     "output_type": "execute_result"
    }
   ],
   "source": [
    "# Tambah kolom baru untuk memisahkan hari dan jam (tapInDay,tapInHour,tapOutHour, Duration dan payCardAge)\n",
    "\n",
    "df1['tapDay'] = df1['tapInTime'].dt.day_name()\n",
    "df1['tapInHour'] = df1['tapInTime'].dt.hour\n",
    "df1['tapOutHour'] = df1['tapOutTime'].dt.hour\n",
    "\n",
    "# duration untuk melihat durasi perjalanan dalam satuan menit\n",
    "# payCardAge untuk melihat umur penumpang berdasarkan payCardBirthDate\n",
    "df1['duration'] = (df1['tapOutTime'] - df1['tapInTime']).dt.total_seconds()/60\n",
    "df1['payCardAge'] = 2024 - df1['payCardBirthDate']\n",
    "\n",
    "df1.head()"
   ]
  },
  {
   "cell_type": "code",
   "execution_count": 116,
   "metadata": {},
   "outputs": [],
   "source": [
    "df1.to_csv('transjakarta_Dataframe.csv', index=False)"
   ]
  },
  {
   "cell_type": "markdown",
   "metadata": {},
   "source": [
    "**`payCardBank` Distribution**\n",
    "\n",
    "Untuk menganalisa persebaran payCardBank yang digunakan oleh penumpang transjakarta."
   ]
  },
  {
   "cell_type": "code",
   "execution_count": 191,
   "metadata": {},
   "outputs": [
    {
     "data": {
      "text/html": [
       "<div>\n",
       "<style scoped>\n",
       "    .dataframe tbody tr th:only-of-type {\n",
       "        vertical-align: middle;\n",
       "    }\n",
       "\n",
       "    .dataframe tbody tr th {\n",
       "        vertical-align: top;\n",
       "    }\n",
       "\n",
       "    .dataframe thead th {\n",
       "        text-align: right;\n",
       "    }\n",
       "</style>\n",
       "<table border=\"1\" class=\"dataframe\">\n",
       "  <thead>\n",
       "    <tr style=\"text-align: right;\">\n",
       "      <th></th>\n",
       "      <th>payCardBank</th>\n",
       "      <th>count</th>\n",
       "    </tr>\n",
       "  </thead>\n",
       "  <tbody>\n",
       "    <tr>\n",
       "      <th>0</th>\n",
       "      <td>dki</td>\n",
       "      <td>17999</td>\n",
       "    </tr>\n",
       "    <tr>\n",
       "      <th>1</th>\n",
       "      <td>emoney</td>\n",
       "      <td>6611</td>\n",
       "    </tr>\n",
       "    <tr>\n",
       "      <th>2</th>\n",
       "      <td>brizzi</td>\n",
       "      <td>3387</td>\n",
       "    </tr>\n",
       "    <tr>\n",
       "      <th>3</th>\n",
       "      <td>flazz</td>\n",
       "      <td>3100</td>\n",
       "    </tr>\n",
       "    <tr>\n",
       "      <th>4</th>\n",
       "      <td>online</td>\n",
       "      <td>2761</td>\n",
       "    </tr>\n",
       "    <tr>\n",
       "      <th>5</th>\n",
       "      <td>bni</td>\n",
       "      <td>2575</td>\n",
       "    </tr>\n",
       "  </tbody>\n",
       "</table>\n",
       "</div>"
      ],
      "text/plain": [
       "  payCardBank  count\n",
       "0         dki  17999\n",
       "1      emoney   6611\n",
       "2      brizzi   3387\n",
       "3       flazz   3100\n",
       "4      online   2761\n",
       "5         bni   2575"
      ]
     },
     "execution_count": 191,
     "metadata": {},
     "output_type": "execute_result"
    }
   ],
   "source": [
    "passenger = df1[['payCardName','payCardSex','payCardAge', 'payCardBank']]\n",
    "\n",
    "bank_dist = passenger['payCardBank'].value_counts().reset_index(name='count')\n",
    "bank_dist"
   ]
  },
  {
   "cell_type": "code",
   "execution_count": 192,
   "metadata": {},
   "outputs": [
    {
     "data": {
      "image/png": "[encoded data removed]",
      "text/plain": [
       "<Figure size 640x480 with 1 Axes>"
      ]
     },
     "metadata": {},
     "output_type": "display_data"
    }
   ],
   "source": [
    "# Distribusi Bank\n",
    "\n",
    "plt.pie(bank_dist['count'], labels=bank_dist['payCardBank'], autopct='%1.1f%%')\n",
    "plt.title('Bank Distribution')\n",
    "plt.show()"
   ]
  },
  {
   "cell_type": "markdown",
   "metadata": {},
   "source": [
    "Dari hasil analisis distribusi bank pada dataset ini,  dapat ditarik beberapa kesimpulan:\n",
    "\n",
    "1. **Bank DKI** merupakan penerbit kartu yang paling banyak digunakan oleh pelanggan Transjakarta, dengan jumlah pengguna mencapai 49.4% dari total seluruh pengguna. Hal ini menunjukkan bahwa setengah dari keseluruhan pengguna Transjakarta menggunakan kartu dari Bank DKI, yang dapat menjadi fokus utama dalam perencanaan layanan dan promosi.\n",
    "\n",
    "2. Selain Bank DKI, kartu e-money seperti **Emoney** (18.1%), **Brizzi** (9.3%), dan **Flazz** (8.5%) juga banyak digunakan, mencerminkan kecenderungan pelanggan untuk menggunakan kartu prabayar dalam transaksi pembayaran.\n",
    "\n",
    "Penggunaan Kartu Online dan Bank Lain: Kartu dari bank lain, seperti BNI dan kartu online memiliki distribusi yang lebih rendah, tetapi tetap memberikan gambaran tentang preferensi pelanggan dalam memilih metode pembayaran."
   ]
  },
  {
   "cell_type": "markdown",
   "metadata": {},
   "source": [
    "**Distribusi range Usia penumpang**"
   ]
  },
  {
   "cell_type": "code",
   "execution_count": 194,
   "metadata": {},
   "outputs": [
    {
     "data": {
      "text/html": [
       "<div>\n",
       "<style scoped>\n",
       "    .dataframe tbody tr th:only-of-type {\n",
       "        vertical-align: middle;\n",
       "    }\n",
       "\n",
       "    .dataframe tbody tr th {\n",
       "        vertical-align: top;\n",
       "    }\n",
       "\n",
       "    .dataframe thead th {\n",
       "        text-align: right;\n",
       "    }\n",
       "</style>\n",
       "<table border=\"1\" class=\"dataframe\">\n",
       "  <thead>\n",
       "    <tr style=\"text-align: right;\">\n",
       "      <th></th>\n",
       "      <th>age_range</th>\n",
       "      <th>count</th>\n",
       "    </tr>\n",
       "  </thead>\n",
       "  <tbody>\n",
       "    <tr>\n",
       "      <th>2</th>\n",
       "      <td>10-19</td>\n",
       "      <td>6782</td>\n",
       "    </tr>\n",
       "    <tr>\n",
       "      <th>1</th>\n",
       "      <td>20-29</td>\n",
       "      <td>8893</td>\n",
       "    </tr>\n",
       "    <tr>\n",
       "      <th>0</th>\n",
       "      <td>30-39</td>\n",
       "      <td>10177</td>\n",
       "    </tr>\n",
       "    <tr>\n",
       "      <th>3</th>\n",
       "      <td>40-49</td>\n",
       "      <td>6617</td>\n",
       "    </tr>\n",
       "    <tr>\n",
       "      <th>4</th>\n",
       "      <td>50-59</td>\n",
       "      <td>3221</td>\n",
       "    </tr>\n",
       "    <tr>\n",
       "      <th>5</th>\n",
       "      <td>60-69</td>\n",
       "      <td>417</td>\n",
       "    </tr>\n",
       "    <tr>\n",
       "      <th>6</th>\n",
       "      <td>70+</td>\n",
       "      <td>326</td>\n",
       "    </tr>\n",
       "  </tbody>\n",
       "</table>\n",
       "</div>"
      ],
      "text/plain": [
       "  age_range  count\n",
       "2     10-19   6782\n",
       "1     20-29   8893\n",
       "0     30-39  10177\n",
       "3     40-49   6617\n",
       "4     50-59   3221\n",
       "5     60-69    417\n",
       "6       70+    326"
      ]
     },
     "execution_count": 194,
     "metadata": {},
     "output_type": "execute_result"
    }
   ],
   "source": [
    "# Distribusi Penumpang dari range umur\n",
    "\n",
    "bins = [10, 20, 31, 40, 50, 60, 70, 80]\n",
    "labels = ['10-19','20-29','30-39','40-49','50-59','60-69','70+']\n",
    "\n",
    "passengerAge_counted = pd.cut(passenger['payCardAge'], bins=bins, labels=labels, include_lowest=True).value_counts().reset_index(name='count')\n",
    "\n",
    "passengerAge_counted.columns = ['age_range', 'count']\n",
    "passengerAge_counted = passengerAge_counted.sort_values('age_range')\n",
    "passengerAge_counted\n"
   ]
  },
  {
   "cell_type": "code",
   "execution_count": 196,
   "metadata": {},
   "outputs": [
    {
     "data": {
      "image/png": "[encoded data removed]",
      "text/plain": [
       "<Figure size 1000x600 with 1 Axes>"
      ]
     },
     "metadata": {},
     "output_type": "display_data"
    }
   ],
   "source": [
    "plt.figure(figsize=(10, 6))\n",
    "sns.barplot(x='age_range', y='count', data=passengerAge_counted)\n",
    "\n",
    "for index, value in enumerate(passengerAge_counted['count']):\n",
    "    plt.text(index, value + 1, str(value), ha='center', va='bottom', fontsize=12)\n",
    "\n",
    "plt.title('Distribution of Passenger Age Groups', fontsize=16)\n",
    "plt.xlabel('Age Range', fontsize=14)\n",
    "plt.ylabel('Count', fontsize=14)\n",
    "plt.show()\n"
   ]
  },
  {
   "cell_type": "markdown",
   "metadata": {},
   "source": [
    "Jika kita menganggap usia produktif kerja adalah rentang usia 20-40 tahun, maka berdasarkan hasil distribusi usia penumpang Transjakarta, kita bisa menarik beberapa kesimpulan:\n",
    "\n",
    "Kelompok usia 20-39 tahun, yang termasuk dalam kategori usia produktif (pekerja), memiliki jumlah penumpang terbesar. Rentang usia 30-39 tahun mencatatkan 10.177 penumpang, dan usia 20-29 tahun sebanyak 8.893 penumpang.\n",
    "Total penumpang dalam rentang usia produktif (20-39 tahun) mencapai 19.703 penumpang. Ini menunjukkan bahwa sebagian besar pengguna Transjakarta adalah pekerja yang menggunakan layanan ini untuk bepergian ke tempat kerja."
   ]
  },
  {
   "cell_type": "markdown",
   "metadata": {},
   "source": [
    "**Gender Distribution**"
   ]
  },
  {
   "cell_type": "code",
   "execution_count": 197,
   "metadata": {},
   "outputs": [
    {
     "data": {
      "text/html": [
       "<div>\n",
       "<style scoped>\n",
       "    .dataframe tbody tr th:only-of-type {\n",
       "        vertical-align: middle;\n",
       "    }\n",
       "\n",
       "    .dataframe tbody tr th {\n",
       "        vertical-align: top;\n",
       "    }\n",
       "\n",
       "    .dataframe thead th {\n",
       "        text-align: right;\n",
       "    }\n",
       "</style>\n",
       "<table border=\"1\" class=\"dataframe\">\n",
       "  <thead>\n",
       "    <tr style=\"text-align: right;\">\n",
       "      <th></th>\n",
       "      <th>payCardSex</th>\n",
       "      <th>count</th>\n",
       "    </tr>\n",
       "  </thead>\n",
       "  <tbody>\n",
       "    <tr>\n",
       "      <th>0</th>\n",
       "      <td>Female</td>\n",
       "      <td>19397</td>\n",
       "    </tr>\n",
       "    <tr>\n",
       "      <th>1</th>\n",
       "      <td>Male</td>\n",
       "      <td>17036</td>\n",
       "    </tr>\n",
       "  </tbody>\n",
       "</table>\n",
       "</div>"
      ],
      "text/plain": [
       "  payCardSex  count\n",
       "0     Female  19397\n",
       "1       Male  17036"
      ]
     },
     "execution_count": 197,
     "metadata": {},
     "output_type": "execute_result"
    }
   ],
   "source": [
    "gender = df1['payCardSex'].value_counts().reset_index(name='count')\n",
    "gender['payCardSex'] = gender['payCardSex'].replace({'M':'Male', 'F':'Female'})\n",
    "gender"
   ]
  },
  {
   "cell_type": "code",
   "execution_count": 72,
   "metadata": {},
   "outputs": [
    {
     "data": {
      "image/png": "[encoded data removed]",
      "text/plain": [
       "<Figure size 640x480 with 1 Axes>"
      ]
     },
     "metadata": {},
     "output_type": "display_data"
    }
   ],
   "source": [
    "plt.pie(gender['count'], labels=gender['payCardSex'], autopct='%1.1f%%')\n",
    "plt.title('Gender Distribution')\n",
    "plt.show()"
   ]
  },
  {
   "cell_type": "markdown",
   "metadata": {},
   "source": [
    "**Peak Day**"
   ]
  },
  {
   "cell_type": "code",
   "execution_count": 198,
   "metadata": {},
   "outputs": [
    {
     "data": {
      "text/html": [
       "<div>\n",
       "<style scoped>\n",
       "    .dataframe tbody tr th:only-of-type {\n",
       "        vertical-align: middle;\n",
       "    }\n",
       "\n",
       "    .dataframe tbody tr th {\n",
       "        vertical-align: top;\n",
       "    }\n",
       "\n",
       "    .dataframe thead th {\n",
       "        text-align: right;\n",
       "    }\n",
       "</style>\n",
       "<table border=\"1\" class=\"dataframe\">\n",
       "  <thead>\n",
       "    <tr style=\"text-align: right;\">\n",
       "      <th></th>\n",
       "      <th>tapDay</th>\n",
       "      <th>count</th>\n",
       "    </tr>\n",
       "  </thead>\n",
       "  <tbody>\n",
       "    <tr>\n",
       "      <th>0</th>\n",
       "      <td>Friday</td>\n",
       "      <td>6645</td>\n",
       "    </tr>\n",
       "    <tr>\n",
       "      <th>1</th>\n",
       "      <td>Monday</td>\n",
       "      <td>6604</td>\n",
       "    </tr>\n",
       "    <tr>\n",
       "      <th>2</th>\n",
       "      <td>Tuesday</td>\n",
       "      <td>6591</td>\n",
       "    </tr>\n",
       "    <tr>\n",
       "      <th>3</th>\n",
       "      <td>Wednesday</td>\n",
       "      <td>6574</td>\n",
       "    </tr>\n",
       "    <tr>\n",
       "      <th>4</th>\n",
       "      <td>Thursday</td>\n",
       "      <td>6574</td>\n",
       "    </tr>\n",
       "    <tr>\n",
       "      <th>5</th>\n",
       "      <td>Sunday</td>\n",
       "      <td>1730</td>\n",
       "    </tr>\n",
       "    <tr>\n",
       "      <th>6</th>\n",
       "      <td>Saturday</td>\n",
       "      <td>1715</td>\n",
       "    </tr>\n",
       "  </tbody>\n",
       "</table>\n",
       "</div>"
      ],
      "text/plain": [
       "      tapDay  count\n",
       "0     Friday   6645\n",
       "1     Monday   6604\n",
       "2    Tuesday   6591\n",
       "3  Wednesday   6574\n",
       "4   Thursday   6574\n",
       "5     Sunday   1730\n",
       "6   Saturday   1715"
      ]
     },
     "execution_count": 198,
     "metadata": {},
     "output_type": "execute_result"
    }
   ],
   "source": [
    "days = df1['tapDay'].value_counts().reset_index(name='count')\n",
    "days"
   ]
  },
  {
   "cell_type": "code",
   "execution_count": 199,
   "metadata": {},
   "outputs": [
    {
     "data": {
      "image/png": "[encoded data removed]",
      "text/plain": [
       "<Figure size 640x480 with 1 Axes>"
      ]
     },
     "metadata": {},
     "output_type": "display_data"
    }
   ],
   "source": [
    "sns.barplot(data=days, x='tapDay',y='count', order=days['tapDay'])\n",
    "for index, value in enumerate(days['count']):\n",
    "    plt.text(index, value + 1, str(value), ha='center', va='bottom', fontsize=10)\n",
    "plt.title('Peak Days')\n",
    "plt.xlabel('Days')\n",
    "plt.ylabel('Number of Taps')\n",
    "plt.show()"
   ]
  },
  {
   "cell_type": "markdown",
   "metadata": {},
   "source": [
    "1. Berdasarkan distribusi data penumpang Transjakarta per hari, terlihat bahwa hari kerja, terutama Jumat dan Senin, memiliki volume penumpang yang paling tinggi, dengan jumlah transaksi mencapai lebih dari 6.600, sementara Minggu dan Sabtu mencatatkan jumlah transaksi yang jauh lebih rendah, sekitar 1.700. Hal ini menunjukkan kebutuhan untuk penyesuaian armada dan jadwal pada hari-hari sibuk, khususnya pada jam puncak, untuk mengurangi kepadatan, serta penghematan operasional pada akhir pekan. \n",
    "2. Selain itu, pola penggunaan yang lebih tinggi pada hari kerja menunjukkan bahwa sebagian besar pengguna Transjakarta adalah pekerja yang melakukan perjalanan rutin selama hari kerja."
   ]
  },
  {
   "cell_type": "markdown",
   "metadata": {},
   "source": [
    "**Peak Hour**"
   ]
  },
  {
   "cell_type": "code",
   "execution_count": 204,
   "metadata": {},
   "outputs": [
    {
     "data": {
      "image/png": "[encoded data removed]",
      "text/plain": [
       "<Figure size 1000x600 with 1 Axes>"
      ]
     },
     "metadata": {},
     "output_type": "display_data"
    }
   ],
   "source": [
    "rush_hour = df1.copy()\n",
    "\n",
    "# Menghitung jumlah taps untuk tiap jam pada tapIn dan tapOut\n",
    "tap_in_counts = rush_hour.groupby('tapInHour')['payCardID'].count()\n",
    "tap_out_counts = rush_hour.groupby('tapOutHour')['payCardID'].count()\n",
    "\n",
    "# combine hitungan taps pada jam yang sama\n",
    "combined_tap_counts = tap_in_counts.add(tap_out_counts, fill_value=0).sort_index()\n",
    "rush_hour_df = combined_tap_counts.reset_index()\n",
    "rush_hour_df.columns = ['Hour', 'Total Taps']\n",
    "\n",
    "# # Step 5: Visualisasi menggunakan Seaborn dengan bar plot\n",
    "plt.figure(figsize=(10, 6))\n",
    "sns.barplot(x='Hour', y='Total Taps', data=rush_hour_df, color=\"skyblue\")\n",
    "plt.title('Rush Hour Distribution of Taps')\n",
    "plt.xlabel('Hour of Day')\n",
    "plt.ylabel('Number of Taps')\n",
    "\n",
    "for index, row in rush_hour_df.iterrows():\n",
    "    plt.text(row.name, row['Total Taps'] + 5, int(row['Total Taps']), color='black', ha=\"center\")\n",
    "\n",
    "plt.grid(axis='y', linestyle='--', alpha=0.7)\n",
    "plt.xticks(rotation=0)\n",
    "plt.show()\n"
   ]
  },
  {
   "cell_type": "markdown",
   "metadata": {},
   "source": [
    "Dari hasil analisis ini, terlihat bahwa **jam sibuk pada layanan Transjakarta terjadi pada pagi hari antara pukul 6 hingga 9**, dengan puncak tertinggi pada pukul 6 pagi (9,062 taps) dan mulai menurun setelah jam 9 pagi. Selain itu, **ada juga puncak lain pada sore hari antara pukul 16 hingga 17** yang menunjukkan lonjakan penggunaan menjelang jam pulang kantor, dengan jumlah taps mencapai 7,346 pada pukul 17. Jam-jam lainnya, terutama malam hari, menunjukkan penggunaan yang jauh lebih rendah. **Hal ini mengindikasikan bahwa Transjakarta paling banyak digunakan pada jam-jam perjalanan menuju dan pulang dari tempat kerja.**\n"
   ]
  },
  {
   "cell_type": "markdown",
   "metadata": {},
   "source": [
    "**Tap Stops**"
   ]
  },
  {
   "cell_type": "code",
   "execution_count": 206,
   "metadata": {},
   "outputs": [
    {
     "data": {
      "image/png": "[encoded data removed]",
      "text/plain": [
       "<Figure size 640x480 with 1 Axes>"
      ]
     },
     "metadata": {},
     "output_type": "display_data"
    }
   ],
   "source": [
    "# TapIn Station\n",
    "tapInStation = df1['tapInStopsName'].value_counts().reset_index(name='total_taps')\n",
    "\n",
    "sns.barplot(x='tapInStopsName', y='total_taps', data=tapInStation.head(5))\n",
    "for index, value in enumerate(tapInStation['total_taps'].head(5)):\n",
    "    plt.text(index, value + 1, str(value), ha='center', va='bottom', fontsize=10)\n",
    "plt.xlabel('Stops Name')\n",
    "plt.ylabel('Taps')\n",
    "plt.title('Top 5 Tap In Stops')\n",
    "plt.xticks(rotation=45)\n",
    "plt.show()"
   ]
  },
  {
   "cell_type": "code",
   "execution_count": 207,
   "metadata": {},
   "outputs": [
    {
     "data": {
      "text/html": [
       "<div>\n",
       "<style scoped>\n",
       "    .dataframe tbody tr th:only-of-type {\n",
       "        vertical-align: middle;\n",
       "    }\n",
       "\n",
       "    .dataframe tbody tr th {\n",
       "        vertical-align: top;\n",
       "    }\n",
       "\n",
       "    .dataframe thead th {\n",
       "        text-align: right;\n",
       "    }\n",
       "</style>\n",
       "<table border=\"1\" class=\"dataframe\">\n",
       "  <thead>\n",
       "    <tr style=\"text-align: right;\">\n",
       "      <th></th>\n",
       "      <th>tapInStopsName</th>\n",
       "      <th>tapInHour</th>\n",
       "      <th>tapInStops</th>\n",
       "    </tr>\n",
       "  </thead>\n",
       "  <tbody>\n",
       "    <tr>\n",
       "      <th>0</th>\n",
       "      <td>Penjaringan</td>\n",
       "      <td>17</td>\n",
       "      <td>50</td>\n",
       "    </tr>\n",
       "    <tr>\n",
       "      <th>1</th>\n",
       "      <td>Garuda Taman Mini</td>\n",
       "      <td>6</td>\n",
       "      <td>47</td>\n",
       "    </tr>\n",
       "    <tr>\n",
       "      <th>2</th>\n",
       "      <td>Cibubur Junction</td>\n",
       "      <td>17</td>\n",
       "      <td>41</td>\n",
       "    </tr>\n",
       "    <tr>\n",
       "      <th>3</th>\n",
       "      <td>BKN</td>\n",
       "      <td>17</td>\n",
       "      <td>39</td>\n",
       "    </tr>\n",
       "    <tr>\n",
       "      <th>4</th>\n",
       "      <td>BNN LRT</td>\n",
       "      <td>17</td>\n",
       "      <td>38</td>\n",
       "    </tr>\n",
       "  </tbody>\n",
       "</table>\n",
       "</div>"
      ],
      "text/plain": [
       "      tapInStopsName  tapInHour  tapInStops\n",
       "0        Penjaringan         17          50\n",
       "1  Garuda Taman Mini          6          47\n",
       "2   Cibubur Junction         17          41\n",
       "3                BKN         17          39\n",
       "4            BNN LRT         17          38"
      ]
     },
     "execution_count": 207,
     "metadata": {},
     "output_type": "execute_result"
    }
   ],
   "source": [
    "TapInStats = df1.groupby(['tapInStopsName','tapInHour'])['tapInStops'].count().reset_index()\n",
    "TapInStats = TapInStats.sort_values('tapInStops', ascending = False, ignore_index= True)\n",
    "TapInStats.head(5)"
   ]
  },
  {
   "cell_type": "code",
   "execution_count": 208,
   "metadata": {},
   "outputs": [
    {
     "data": {
      "image/png": "[encoded data removed]",
      "text/plain": [
       "<Figure size 640x480 with 1 Axes>"
      ]
     },
     "metadata": {},
     "output_type": "display_data"
    }
   ],
   "source": [
    "# Tap out Station\n",
    "tapOutStation = df1['tapOutStopsName'].value_counts().reset_index(name='total_taps')\n",
    "sns.barplot(x='tapOutStopsName', y='total_taps', data=tapOutStation.head(5))\n",
    "for index, value in enumerate(tapOutStation['total_taps'].head(5)):\n",
    "    plt.text(index, value + 1, str(value), ha='center', va='bottom', fontsize=10)\n",
    "plt.xlabel('Stops Name')\n",
    "plt.ylabel('Taps')\n",
    "plt.title('Top 5 Tap Out Stops')\n",
    "plt.xticks(rotation=45)\n",
    "plt.show()"
   ]
  },
  {
   "cell_type": "code",
   "execution_count": 219,
   "metadata": {},
   "outputs": [
    {
     "data": {
      "text/html": [
       "<div>\n",
       "<style scoped>\n",
       "    .dataframe tbody tr th:only-of-type {\n",
       "        vertical-align: middle;\n",
       "    }\n",
       "\n",
       "    .dataframe tbody tr th {\n",
       "        vertical-align: top;\n",
       "    }\n",
       "\n",
       "    .dataframe thead th {\n",
       "        text-align: right;\n",
       "    }\n",
       "</style>\n",
       "<table border=\"1\" class=\"dataframe\">\n",
       "  <thead>\n",
       "    <tr style=\"text-align: right;\">\n",
       "      <th></th>\n",
       "      <th>tapOutStopsName</th>\n",
       "      <th>tapOutHour</th>\n",
       "      <th>tapOutStops</th>\n",
       "    </tr>\n",
       "  </thead>\n",
       "  <tbody>\n",
       "    <tr>\n",
       "      <th>0</th>\n",
       "      <td>BKN</td>\n",
       "      <td>18</td>\n",
       "      <td>48</td>\n",
       "    </tr>\n",
       "    <tr>\n",
       "      <th>1</th>\n",
       "      <td>Masjid Agung</td>\n",
       "      <td>6</td>\n",
       "      <td>38</td>\n",
       "    </tr>\n",
       "    <tr>\n",
       "      <th>2</th>\n",
       "      <td>BKN</td>\n",
       "      <td>7</td>\n",
       "      <td>37</td>\n",
       "    </tr>\n",
       "    <tr>\n",
       "      <th>3</th>\n",
       "      <td>Penjaringan</td>\n",
       "      <td>7</td>\n",
       "      <td>36</td>\n",
       "    </tr>\n",
       "    <tr>\n",
       "      <th>4</th>\n",
       "      <td>BKN</td>\n",
       "      <td>6</td>\n",
       "      <td>36</td>\n",
       "    </tr>\n",
       "  </tbody>\n",
       "</table>\n",
       "</div>"
      ],
      "text/plain": [
       "  tapOutStopsName  tapOutHour  tapOutStops\n",
       "0             BKN          18           48\n",
       "1    Masjid Agung           6           38\n",
       "2             BKN           7           37\n",
       "3     Penjaringan           7           36\n",
       "4             BKN           6           36"
      ]
     },
     "execution_count": 219,
     "metadata": {},
     "output_type": "execute_result"
    }
   ],
   "source": [
    "TapOutStats = df1.groupby(['tapOutStopsName','tapOutHour'])['tapOutStops'].count().reset_index()\n",
    "TapOutStats = TapOutStats.sort_values('tapOutStops', ascending = False, ignore_index= True)\n",
    "TapOutStats.head(5)"
   ]
  },
  {
   "cell_type": "code",
   "execution_count": 221,
   "metadata": {},
   "outputs": [
    {
     "name": "stdout",
     "output_type": "stream",
     "text": [
      "Top 5 most popular routes:\n"
     ]
    },
    {
     "data": {
      "text/html": [
       "<div>\n",
       "<style scoped>\n",
       "    .dataframe tbody tr th:only-of-type {\n",
       "        vertical-align: middle;\n",
       "    }\n",
       "\n",
       "    .dataframe tbody tr th {\n",
       "        vertical-align: top;\n",
       "    }\n",
       "\n",
       "    .dataframe thead th {\n",
       "        text-align: right;\n",
       "    }\n",
       "</style>\n",
       "<table border=\"1\" class=\"dataframe\">\n",
       "  <thead>\n",
       "    <tr style=\"text-align: right;\">\n",
       "      <th></th>\n",
       "      <th>tapInStopsName</th>\n",
       "      <th>tapOutStopsName</th>\n",
       "      <th>trip_count</th>\n",
       "    </tr>\n",
       "  </thead>\n",
       "  <tbody>\n",
       "    <tr>\n",
       "      <th>0</th>\n",
       "      <td>Rusun Kapuk Muara</td>\n",
       "      <td>Penjaringan</td>\n",
       "      <td>125</td>\n",
       "    </tr>\n",
       "    <tr>\n",
       "      <th>1</th>\n",
       "      <td>Penjaringan</td>\n",
       "      <td>Rusun Kapuk Muara</td>\n",
       "      <td>117</td>\n",
       "    </tr>\n",
       "    <tr>\n",
       "      <th>2</th>\n",
       "      <td>Garuda Taman Mini</td>\n",
       "      <td>BKN</td>\n",
       "      <td>100</td>\n",
       "    </tr>\n",
       "    <tr>\n",
       "      <th>3</th>\n",
       "      <td>Cibubur Junction</td>\n",
       "      <td>BKN</td>\n",
       "      <td>88</td>\n",
       "    </tr>\n",
       "    <tr>\n",
       "      <th>4</th>\n",
       "      <td>Garuda Taman Mini</td>\n",
       "      <td>Pinang Ranti</td>\n",
       "      <td>85</td>\n",
       "    </tr>\n",
       "  </tbody>\n",
       "</table>\n",
       "</div>"
      ],
      "text/plain": [
       "      tapInStopsName    tapOutStopsName  trip_count\n",
       "0  Rusun Kapuk Muara        Penjaringan         125\n",
       "1        Penjaringan  Rusun Kapuk Muara         117\n",
       "2  Garuda Taman Mini                BKN         100\n",
       "3   Cibubur Junction                BKN          88\n",
       "4  Garuda Taman Mini       Pinang Ranti          85"
      ]
     },
     "metadata": {},
     "output_type": "display_data"
    },
    {
     "name": "stdout",
     "output_type": "stream",
     "text": [
      "\n",
      "Top 5 least popular routes:\n"
     ]
    },
    {
     "data": {
      "text/html": [
       "<div>\n",
       "<style scoped>\n",
       "    .dataframe tbody tr th:only-of-type {\n",
       "        vertical-align: middle;\n",
       "    }\n",
       "\n",
       "    .dataframe tbody tr th {\n",
       "        vertical-align: top;\n",
       "    }\n",
       "\n",
       "    .dataframe thead th {\n",
       "        text-align: right;\n",
       "    }\n",
       "</style>\n",
       "<table border=\"1\" class=\"dataframe\">\n",
       "  <thead>\n",
       "    <tr style=\"text-align: right;\">\n",
       "      <th></th>\n",
       "      <th>tapInStopsName</th>\n",
       "      <th>tapOutStopsName</th>\n",
       "      <th>trip_count</th>\n",
       "    </tr>\n",
       "  </thead>\n",
       "  <tbody>\n",
       "    <tr>\n",
       "      <th>4298</th>\n",
       "      <td>Wisma Mandiri</td>\n",
       "      <td>Tosari 1</td>\n",
       "      <td>1</td>\n",
       "    </tr>\n",
       "    <tr>\n",
       "      <th>4299</th>\n",
       "      <td>Wisma Subud</td>\n",
       "      <td>Simpang Pinang I Pondok Labu</td>\n",
       "      <td>1</td>\n",
       "    </tr>\n",
       "    <tr>\n",
       "      <th>4300</th>\n",
       "      <td>Ampera 1</td>\n",
       "      <td>St. Tj. Barat 1</td>\n",
       "      <td>1</td>\n",
       "    </tr>\n",
       "    <tr>\n",
       "      <th>4301</th>\n",
       "      <td>Ampera 1</td>\n",
       "      <td>Syibi</td>\n",
       "      <td>1</td>\n",
       "    </tr>\n",
       "    <tr>\n",
       "      <th>4302</th>\n",
       "      <td>Ampera Garden</td>\n",
       "      <td>Jln. Taman Kemang</td>\n",
       "      <td>1</td>\n",
       "    </tr>\n",
       "  </tbody>\n",
       "</table>\n",
       "</div>"
      ],
      "text/plain": [
       "     tapInStopsName               tapOutStopsName  trip_count\n",
       "4298  Wisma Mandiri                      Tosari 1           1\n",
       "4299    Wisma Subud  Simpang Pinang I Pondok Labu           1\n",
       "4300       Ampera 1               St. Tj. Barat 1           1\n",
       "4301       Ampera 1                         Syibi           1\n",
       "4302  Ampera Garden             Jln. Taman Kemang           1"
      ]
     },
     "metadata": {},
     "output_type": "display_data"
    }
   ],
   "source": [
    "# Mengelompokkan data berdasarkan tap in dan tap out untuk melihat rute\n",
    "route_usage = df1.groupby(['tapInStopsName', 'tapOutStopsName']).size().reset_index(name='trip_count')\n",
    "route_usage = route_usage.sort_values('trip_count', ascending=False).reset_index(drop=True)\n",
    "\n",
    "#  5 rute teratas\n",
    "top_routes = route_usage.head(5)\n",
    "print(\"Top 5 most popular routes:\")\n",
    "display(top_routes)\n",
    "\n",
    "#  5 rute terbawah\n",
    "least_routes = route_usage.tail(5)\n",
    "print(\"\\nTop 5 least popular routes:\")\n",
    "display(least_routes)\n"
   ]
  },
  {
   "cell_type": "code",
   "execution_count": 222,
   "metadata": {},
   "outputs": [
    {
     "data": {
      "image/png": "[encoded data removed]",
      "text/plain": [
       "<Figure size 1000x600 with 1 Axes>"
      ]
     },
     "metadata": {},
     "output_type": "display_data"
    },
    {
     "data": {
      "image/png": "[encoded data removed]",
      "text/plain": [
       "<Figure size 1000x600 with 1 Axes>"
      ]
     },
     "metadata": {},
     "output_type": "display_data"
    }
   ],
   "source": [
    "# Mengelompokkan data berdasarkan rute atau koridor\n",
    "route_stats = df1.groupby('corridorName')['tapInStops'].count().reset_index(name='total_taps')\n",
    "route_stats = route_stats.sort_values('total_taps', ascending=False).reset_index(drop=True)\n",
    "\n",
    "# 5 rute dengan jumlah pengguna tertinggi\n",
    "top_routes = route_stats.head(5)\n",
    "least_routes = route_stats.tail(5)\n",
    "\n",
    "plt.figure(figsize=(10, 6))\n",
    "sns.barplot(data=top_routes, x='total_taps', y='corridorName', palette='viridis')\n",
    "plt.title(\"Top 5 Busiest Routes\")\n",
    "plt.xlabel(\"Total Taps\")\n",
    "plt.ylabel(\"Route Name\")\n",
    "plt.show()\n",
    "\n",
    "plt.figure(figsize=(10, 6))\n",
    "sns.barplot(data=least_routes, x='total_taps', y='corridorName', palette='magma')\n",
    "plt.title(\"Top 5 Least Busy Routes\")\n",
    "plt.xlabel(\"Total Taps\")\n",
    "plt.ylabel(\"Route Name\")\n",
    "plt.show()\n",
    "\n"
   ]
  },
  {
   "cell_type": "code",
   "execution_count": 223,
   "metadata": {},
   "outputs": [
    {
     "data": {
      "text/html": [
       "<div>\n",
       "<style scoped>\n",
       "    .dataframe tbody tr th:only-of-type {\n",
       "        vertical-align: middle;\n",
       "    }\n",
       "\n",
       "    .dataframe tbody tr th {\n",
       "        vertical-align: top;\n",
       "    }\n",
       "\n",
       "    .dataframe thead th {\n",
       "        text-align: right;\n",
       "    }\n",
       "</style>\n",
       "<table border=\"1\" class=\"dataframe\">\n",
       "  <thead>\n",
       "    <tr style=\"text-align: right;\">\n",
       "      <th></th>\n",
       "      <th>corridorName</th>\n",
       "      <th>total_taps</th>\n",
       "    </tr>\n",
       "  </thead>\n",
       "  <tbody>\n",
       "    <tr>\n",
       "      <th>0</th>\n",
       "      <td>Cibubur - Balai Kota</td>\n",
       "      <td>393</td>\n",
       "    </tr>\n",
       "    <tr>\n",
       "      <th>1</th>\n",
       "      <td>Ciputat - CSW</td>\n",
       "      <td>384</td>\n",
       "    </tr>\n",
       "    <tr>\n",
       "      <th>2</th>\n",
       "      <td>Harmoni - Jakarta International Stadium</td>\n",
       "      <td>342</td>\n",
       "    </tr>\n",
       "    <tr>\n",
       "      <th>3</th>\n",
       "      <td>Pulo Gadung - Monas</td>\n",
       "      <td>340</td>\n",
       "    </tr>\n",
       "    <tr>\n",
       "      <th>4</th>\n",
       "      <td>Kampung Rambutan - Pondok Gede</td>\n",
       "      <td>335</td>\n",
       "    </tr>\n",
       "  </tbody>\n",
       "</table>\n",
       "</div>"
      ],
      "text/plain": [
       "                              corridorName  total_taps\n",
       "0                     Cibubur - Balai Kota         393\n",
       "1                            Ciputat - CSW         384\n",
       "2  Harmoni - Jakarta International Stadium         342\n",
       "3                      Pulo Gadung - Monas         340\n",
       "4           Kampung Rambutan - Pondok Gede         335"
      ]
     },
     "metadata": {},
     "output_type": "display_data"
    },
    {
     "data": {
      "text/html": [
       "<div>\n",
       "<style scoped>\n",
       "    .dataframe tbody tr th:only-of-type {\n",
       "        vertical-align: middle;\n",
       "    }\n",
       "\n",
       "    .dataframe tbody tr th {\n",
       "        vertical-align: top;\n",
       "    }\n",
       "\n",
       "    .dataframe thead th {\n",
       "        text-align: right;\n",
       "    }\n",
       "</style>\n",
       "<table border=\"1\" class=\"dataframe\">\n",
       "  <thead>\n",
       "    <tr style=\"text-align: right;\">\n",
       "      <th></th>\n",
       "      <th>corridorName</th>\n",
       "      <th>total_taps</th>\n",
       "    </tr>\n",
       "  </thead>\n",
       "  <tbody>\n",
       "    <tr>\n",
       "      <th>211</th>\n",
       "      <td>Grogol - Pos Pengumben via Slipi</td>\n",
       "      <td>38</td>\n",
       "    </tr>\n",
       "    <tr>\n",
       "      <th>212</th>\n",
       "      <td>Senen - Tanah Abang</td>\n",
       "      <td>38</td>\n",
       "    </tr>\n",
       "    <tr>\n",
       "      <th>213</th>\n",
       "      <td>Term. Pulo Gadung - Lampiri</td>\n",
       "      <td>30</td>\n",
       "    </tr>\n",
       "    <tr>\n",
       "      <th>214</th>\n",
       "      <td>Tanah Abang - Kebayoran Lama via Pos Pengumben</td>\n",
       "      <td>22</td>\n",
       "    </tr>\n",
       "    <tr>\n",
       "      <th>215</th>\n",
       "      <td>Kampung Rambutan - Blok M</td>\n",
       "      <td>19</td>\n",
       "    </tr>\n",
       "  </tbody>\n",
       "</table>\n",
       "</div>"
      ],
      "text/plain": [
       "                                       corridorName  total_taps\n",
       "211                Grogol - Pos Pengumben via Slipi          38\n",
       "212                             Senen - Tanah Abang          38\n",
       "213                     Term. Pulo Gadung - Lampiri          30\n",
       "214  Tanah Abang - Kebayoran Lama via Pos Pengumben          22\n",
       "215                       Kampung Rambutan - Blok M          19"
      ]
     },
     "metadata": {},
     "output_type": "display_data"
    }
   ],
   "source": [
    "display(top_routes)\n",
    "display(least_routes)"
   ]
  },
  {
   "cell_type": "markdown",
   "metadata": {},
   "source": [
    "Dari hasil analisis rute, terlihat bahwa rute Cibubur - Balai Kota merupakan yang paling sibuk dengan total 393 taps, diikuti oleh Ciputat - CSW (384 taps) dan Harmoni - Jakarta International Stadium (342 taps). Ini menunjukkan bahwa rute-rute ini memiliki permintaan penumpang yang tinggi, mungkin karena melayani daerah padat penduduk atau area perkantoran yang banyak dijangkau penumpang."
   ]
  },
  {
   "cell_type": "markdown",
   "metadata": {},
   "source": [
    "## **Kesimpulan dan Rekomendasi** ##"
   ]
  },
  {
   "cell_type": "markdown",
   "metadata": {},
   "source": [
    "**Kesimpulan Utama dari Analisis**\n",
    "1. Top 5 Rute Paling Sibuk dan Paling Sepi:\n",
    "- Rute dengan jumlah penumpang tertinggi, seperti Cibubur - Balai Kota dan Ciputat - CSW, menunjukkan kebutuhan armada yang lebih besar pada rute-rute ini\n",
    "- Di sisi lain, rute yang paling sepi, seperti Grogol - Pos Pengumben dan Kampung Rambutan - Blok M, menunjukkan penggunaan yang rendah, yang mungkin perlu dievaluasi apakah frekuensi layanan pada rute ini sudah optimal atau perlu pengurangan.\n",
    "\n",
    "2. Distribusi Pengguna Berdasarkan Waktu: Waktu sibuk terjadi di pagi hari (sekitar pukul 6-9) dan sore hari (pukul 17-19), yang mencerminkan kebutuhan perjalanan yang terkait dengan jam kerja. Hari kerja juga mendominasi jumlah perjalanan, sedangkan akhir pekan menunjukkan penurunan signifikan dalam jumlah penumpang.\n",
    "\n",
    "3. Karakteristik Demografis Pengguna: Mayoritas penumpang berada dalam kelompok usia produktif (20-40 tahun), yang kemungkinan besar merupakan pekerja. Selain itu, jenis kartu pembayaran yang dominan berasal dari Bank DKI dan e-money lainnya, mengindikasikan preferensi metode pembayaran elektronik yang lebih praktis di kalangan pengguna.\n",
    "\n",
    "**Rekomendasi**\n",
    "1. Penyesuaian Armada Berdasarkan Kepadatan Rute\n",
    "- Tingkatkan alokasi armada dan frekuensi keberangkatan di rute-rute tersibuk, seperti Cibubur - Balai Kota dan Ciputat - CSW, khususnya pada jam sibuk, untuk mengurangi kemacetan dan meningkatkan kenyamanan penumpang.\n",
    "- Perlu dilakukannya evaluasi kembali frekuensi layanan di rute-rute yang paling sepi, seperti Grogol - Pos Pengumben dan Kampung Rambutan - Blok M, mengurangi jumlah armada di rute-rute ini dan menyesuaikan jadwal layanan dapat mengalokasikan sumber daya lebih efektif ke rute dengan permintaan yang lebih tinggi.\n",
    "\n",
    "2. Peningkatan Fasilitas di Titik Naik-Turun pada Rute Sibuk: Fasilitas halte di sepanjang rute sibuk, terutama halte pada rute seperti Cibubur - Balai Kota dan Ciputat - CSW, perlu ditingkatkan untuk mengakomodasi jumlah penumpang yang lebih tinggi. Penyediaan fasilitas yang lebih baik seperti tempat duduk, dan informasi rute akan meningkatkan kenyamanan penumpang.\n",
    "\n",
    "3. Promosi dan Edukasi Penggunaan E-money: Mengembangkan program insentif atau kampanye edukasi untuk mendorong penggunaan e-money di kalangan penumpang. Penggunaan kartu elektronik secara luas tidak hanya memudahkan penumpang, tetapi juga mempercepat proses naik-turun penumpang, mengurangi waktu tunggu, dan meningkatkan efisiensi operasional keseluruhan."
   ]
  }
 ],
 "metadata": {
  "kernelspec": {
   "display_name": "Python 3",
   "language": "python",
   "name": "python3"
  },
  "language_info": {
   "codemirror_mode": {
    "name": "ipython",
    "version": 3
   },
   "file_extension": ".py",
   "mimetype": "text/x-python",
   "name": "python",
   "nbconvert_exporter": "python",
   "pygments_lexer": "ipython3",
   "version": "3.12.6"
  }
 },
 "nbformat": 4,
 "nbformat_minor": 2
}
